{
 "cells": [
  {
   "cell_type": "code",
   "execution_count": 1,
   "metadata": {},
   "outputs": [],
   "source": [
    "import requests\n",
    "from bs4 import BeautifulSoup\n",
    "import pandas as pd"
   ]
  },
  {
   "cell_type": "code",
   "execution_count": 2,
   "metadata": {},
   "outputs": [],
   "source": [
    "url = 'https://www.nhimc.or.kr/dept/profList.do?deptNo='"
   ]
  },
  {
   "cell_type": "code",
   "execution_count": 7,
   "metadata": {},
   "outputs": [],
   "source": [
    "for i in range(35):\n",
    "    _url = url + str(i+1)\n",
    "    response = requests.get(_url)\n",
    "    soup = BeautifulSoup(response.text, 'html.parser')\n",
    "    dep_list = []\n",
    "    for dep in soup.select('.x_dept_info'):\n",
    "        dep_list.append([dep.select_one('dt').text.strip(), dep.select_one('dd').text.strip()])\n",
    "    "
   ]
  },
  {
   "cell_type": "code",
   "execution_count": 8,
   "metadata": {},
   "outputs": [],
   "source": [
    "#list를 dataframe으로 변환\n",
    "df = pd.DataFrame(dep_list, columns=['진료과명', '진료과소개'])"
   ]
  },
  {
   "cell_type": "code",
   "execution_count": 9,
   "metadata": {},
   "outputs": [
    {
     "data": {
      "text/html": [
       "<div>\n",
       "<style scoped>\n",
       "    .dataframe tbody tr th:only-of-type {\n",
       "        vertical-align: middle;\n",
       "    }\n",
       "\n",
       "    .dataframe tbody tr th {\n",
       "        vertical-align: top;\n",
       "    }\n",
       "\n",
       "    .dataframe thead th {\n",
       "        text-align: right;\n",
       "    }\n",
       "</style>\n",
       "<table border=\"1\" class=\"dataframe\">\n",
       "  <thead>\n",
       "    <tr style=\"text-align: right;\">\n",
       "      <th></th>\n",
       "      <th>진료과명</th>\n",
       "      <th>진료과소개</th>\n",
       "    </tr>\n",
       "  </thead>\n",
       "  <tbody>\n",
       "  </tbody>\n",
       "</table>\n",
       "</div>"
      ],
      "text/plain": [
       "Empty DataFrame\n",
       "Columns: [진료과명, 진료과소개]\n",
       "Index: []"
      ]
     },
     "execution_count": 9,
     "metadata": {},
     "output_type": "execute_result"
    }
   ],
   "source": [
    "df"
   ]
  },
  {
   "cell_type": "code",
   "execution_count": null,
   "metadata": {},
   "outputs": [],
   "source": [
    "doctors = {'doctors':[]}\n",
    "for doc in soup.select('.info'):\n",
    "    #print(doc)\n",
    "    doctor = {'이름': doc.select_one('.tit > .t').text,\n",
    "              '진료분야':doc.select_one('.txt > dd').text}\n",
    "    doctors['doctors'].append(doctor)\n"
   ]
  },
  {
   "cell_type": "code",
   "execution_count": null,
   "metadata": {},
   "outputs": [],
   "source": [
    "doctors['doctors']"
   ]
  },
  {
   "cell_type": "code",
   "execution_count": null,
   "metadata": {},
   "outputs": [],
   "source": [
    "import pdfkit\n",
    "\n",
    "# 웹 페이지 URL\n",
    "url = 'https://www.nhimc.or.kr'\n",
    "\n",
    "# PDF로 변환\n",
    "pdfkit.from_url(url, 'output.pdf')"
   ]
  },
  {
   "cell_type": "code",
   "execution_count": null,
   "metadata": {},
   "outputs": [],
   "source": [
    "from pytube import YouTube\n",
    "\n",
    "def download_youtube_video_as_mp4(url, path):\n",
    "    \"\"\"\n",
    "    YouTube 동영상을 MP4 형식으로 다운로드하는 함수.\n",
    "\n",
    "    :param url: YouTube 동영상의 URL\n",
    "    :param path: 저장할 파일 경로 (예: 'downloads/video.mp4')\n",
    "    \"\"\"\n",
    "    yt = YouTube(url)\n",
    "    video = yt.streams.filter(file_extension='mp4').get_lowest_resolution()\n",
    "    video.download(output_path=path)\n",
    "\n",
    "# 함수 사용 예시\n",
    "download_youtube_video_as_mp4('https://youtu.be/e6XIrQJ4E_U?si=fIObZ4efZciDjdvU', 'test.mp4')"
   ]
  }
 ],
 "metadata": {
  "kernelspec": {
   "display_name": ".venv",
   "language": "python",
   "name": "python3"
  },
  "language_info": {
   "codemirror_mode": {
    "name": "ipython",
    "version": 3
   },
   "file_extension": ".py",
   "mimetype": "text/x-python",
   "name": "python",
   "nbconvert_exporter": "python",
   "pygments_lexer": "ipython3",
   "version": "3.11.4"
  }
 },
 "nbformat": 4,
 "nbformat_minor": 2
}

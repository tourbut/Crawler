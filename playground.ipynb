{
 "cells": [
  {
   "cell_type": "code",
   "execution_count": null,
   "metadata": {},
   "outputs": [],
   "source": [
    "import requests\n",
    "from bs4 import BeautifulSoup"
   ]
  },
  {
   "cell_type": "code",
   "execution_count": null,
   "metadata": {},
   "outputs": [],
   "source": [
    "url = 'https://www.nhimc.or.kr/dept/profList.do?deptNo=28'"
   ]
  },
  {
   "cell_type": "code",
   "execution_count": null,
   "metadata": {},
   "outputs": [],
   "source": [
    "response = requests.get(url)\n",
    "soup = BeautifulSoup(response.text, 'html.parser')"
   ]
  },
  {
   "cell_type": "code",
   "execution_count": null,
   "metadata": {},
   "outputs": [],
   "source": [
    "doctors = {'doctors':[]}\n",
    "for doc in soup.select('.info'):\n",
    "    #print(doc)\n",
    "    doctor = {'이름': doc.select_one('.tit > .t').text,\n",
    "              '진료분야':doc.select_one('.txt > dd').text}\n",
    "    doctors['doctors'].append(doctor)\n"
   ]
  },
  {
   "cell_type": "code",
   "execution_count": null,
   "metadata": {},
   "outputs": [],
   "source": [
    "doctors['doctors']"
   ]
  },
  {
   "cell_type": "code",
   "execution_count": 1,
   "metadata": {},
   "outputs": [
    {
     "ename": "OSError",
     "evalue": "No wkhtmltopdf executable found: \"b''\"\nIf this file exists please check that this process can read it or you can pass path to it manually in method call, check README. Otherwise please install wkhtmltopdf - https://github.com/JazzCore/python-pdfkit/wiki/Installing-wkhtmltopdf",
     "output_type": "error",
     "traceback": [
      "\u001b[1;31m---------------------------------------------------------------------------\u001b[0m",
      "\u001b[1;31mFileNotFoundError\u001b[0m                         Traceback (most recent call last)",
      "File \u001b[1;32mf:\\MyGit\\My\\Crawler\\.venv\\Lib\\site-packages\\pdfkit\\configuration.py:35\u001b[0m, in \u001b[0;36mConfiguration.__init__\u001b[1;34m(self, wkhtmltopdf, meta_tag_prefix, environ)\u001b[0m\n\u001b[0;32m     33\u001b[0m     \u001b[39mself\u001b[39m\u001b[39m.\u001b[39mwkhtmltopdf \u001b[39m=\u001b[39m lines[\u001b[39m0\u001b[39m]\u001b[39m.\u001b[39mstrip()\n\u001b[1;32m---> 35\u001b[0m \u001b[39mwith\u001b[39;00m \u001b[39mopen\u001b[39;49m(\u001b[39mself\u001b[39;49m\u001b[39m.\u001b[39;49mwkhtmltopdf) \u001b[39mas\u001b[39;00m f:\n\u001b[0;32m     36\u001b[0m     \u001b[39mpass\u001b[39;00m\n",
      "\u001b[1;31mFileNotFoundError\u001b[0m: [Errno 2] No such file or directory: b''",
      "\nDuring handling of the above exception, another exception occurred:\n",
      "\u001b[1;31mOSError\u001b[0m                                   Traceback (most recent call last)",
      "\u001b[1;32mf:\\MyGit\\My\\Crawler\\playground.ipynb 셀 6\u001b[0m line \u001b[0;36m7\n\u001b[0;32m      <a href='vscode-notebook-cell:/f%3A/MyGit/My/Crawler/playground.ipynb#W5sZmlsZQ%3D%3D?line=3'>4</a>\u001b[0m url \u001b[39m=\u001b[39m \u001b[39m'\u001b[39m\u001b[39mhttps://www.nhimc.or.kr\u001b[39m\u001b[39m'\u001b[39m\n\u001b[0;32m      <a href='vscode-notebook-cell:/f%3A/MyGit/My/Crawler/playground.ipynb#W5sZmlsZQ%3D%3D?line=5'>6</a>\u001b[0m \u001b[39m# PDF로 변환\u001b[39;00m\n\u001b[1;32m----> <a href='vscode-notebook-cell:/f%3A/MyGit/My/Crawler/playground.ipynb#W5sZmlsZQ%3D%3D?line=6'>7</a>\u001b[0m pdfkit\u001b[39m.\u001b[39;49mfrom_url(url, \u001b[39m'\u001b[39;49m\u001b[39moutput.pdf\u001b[39;49m\u001b[39m'\u001b[39;49m)\n",
      "File \u001b[1;32mf:\\MyGit\\My\\Crawler\\.venv\\Lib\\site-packages\\pdfkit\\api.py:24\u001b[0m, in \u001b[0;36mfrom_url\u001b[1;34m(url, output_path, options, toc, cover, configuration, cover_first, verbose)\u001b[0m\n\u001b[0;32m      7\u001b[0m \u001b[39mdef\u001b[39;00m \u001b[39mfrom_url\u001b[39m(url, output_path\u001b[39m=\u001b[39m\u001b[39mNone\u001b[39;00m, options\u001b[39m=\u001b[39m\u001b[39mNone\u001b[39;00m, toc\u001b[39m=\u001b[39m\u001b[39mNone\u001b[39;00m, cover\u001b[39m=\u001b[39m\u001b[39mNone\u001b[39;00m,\n\u001b[0;32m      8\u001b[0m              configuration\u001b[39m=\u001b[39m\u001b[39mNone\u001b[39;00m, cover_first\u001b[39m=\u001b[39m\u001b[39mFalse\u001b[39;00m, verbose\u001b[39m=\u001b[39m\u001b[39mFalse\u001b[39;00m):\n\u001b[0;32m      9\u001b[0m \u001b[39m    \u001b[39m\u001b[39m\"\"\"\u001b[39;00m\n\u001b[0;32m     10\u001b[0m \u001b[39m    Convert file of files from URLs to PDF document\u001b[39;00m\n\u001b[0;32m     11\u001b[0m \n\u001b[1;32m   (...)\u001b[0m\n\u001b[0;32m     21\u001b[0m \u001b[39m    Returns: True on success\u001b[39;00m\n\u001b[0;32m     22\u001b[0m \u001b[39m    \"\"\"\u001b[39;00m\n\u001b[1;32m---> 24\u001b[0m     r \u001b[39m=\u001b[39m PDFKit(url, \u001b[39m'\u001b[39;49m\u001b[39murl\u001b[39;49m\u001b[39m'\u001b[39;49m, options\u001b[39m=\u001b[39;49moptions, toc\u001b[39m=\u001b[39;49mtoc, cover\u001b[39m=\u001b[39;49mcover,\n\u001b[0;32m     25\u001b[0m                configuration\u001b[39m=\u001b[39;49mconfiguration, cover_first\u001b[39m=\u001b[39;49mcover_first, verbose\u001b[39m=\u001b[39;49mverbose)\n\u001b[0;32m     27\u001b[0m     \u001b[39mreturn\u001b[39;00m r\u001b[39m.\u001b[39mto_pdf(output_path)\n",
      "File \u001b[1;32mf:\\MyGit\\My\\Crawler\\.venv\\Lib\\site-packages\\pdfkit\\pdfkit.py:45\u001b[0m, in \u001b[0;36mPDFKit.__init__\u001b[1;34m(self, url_or_file, type_, options, toc, cover, css, configuration, cover_first, verbose)\u001b[0m\n\u001b[0;32m     41\u001b[0m \u001b[39mdef\u001b[39;00m \u001b[39m__init__\u001b[39m(\u001b[39mself\u001b[39m, url_or_file, type_, options\u001b[39m=\u001b[39m\u001b[39mNone\u001b[39;00m, toc\u001b[39m=\u001b[39m\u001b[39mNone\u001b[39;00m, cover\u001b[39m=\u001b[39m\u001b[39mNone\u001b[39;00m,\n\u001b[0;32m     42\u001b[0m              css\u001b[39m=\u001b[39m\u001b[39mNone\u001b[39;00m, configuration\u001b[39m=\u001b[39m\u001b[39mNone\u001b[39;00m, cover_first\u001b[39m=\u001b[39m\u001b[39mFalse\u001b[39;00m, verbose\u001b[39m=\u001b[39m\u001b[39mFalse\u001b[39;00m):\n\u001b[0;32m     44\u001b[0m     \u001b[39mself\u001b[39m\u001b[39m.\u001b[39msource \u001b[39m=\u001b[39m Source(url_or_file, type_)\n\u001b[1;32m---> 45\u001b[0m     \u001b[39mself\u001b[39m\u001b[39m.\u001b[39mconfiguration \u001b[39m=\u001b[39m (Configuration() \u001b[39mif\u001b[39;00m configuration \u001b[39mis\u001b[39;00m \u001b[39mNone\u001b[39;00m\n\u001b[0;32m     46\u001b[0m                           \u001b[39melse\u001b[39;00m configuration)\n\u001b[0;32m     47\u001b[0m     \u001b[39mtry\u001b[39;00m:\n\u001b[0;32m     48\u001b[0m         \u001b[39mself\u001b[39m\u001b[39m.\u001b[39mwkhtmltopdf \u001b[39m=\u001b[39m \u001b[39mself\u001b[39m\u001b[39m.\u001b[39mconfiguration\u001b[39m.\u001b[39mwkhtmltopdf\u001b[39m.\u001b[39mdecode(\u001b[39m'\u001b[39m\u001b[39mutf-8\u001b[39m\u001b[39m'\u001b[39m)\n",
      "File \u001b[1;32mf:\\MyGit\\My\\Crawler\\.venv\\Lib\\site-packages\\pdfkit\\configuration.py:38\u001b[0m, in \u001b[0;36mConfiguration.__init__\u001b[1;34m(self, wkhtmltopdf, meta_tag_prefix, environ)\u001b[0m\n\u001b[0;32m     36\u001b[0m         \u001b[39mpass\u001b[39;00m\n\u001b[0;32m     37\u001b[0m \u001b[39mexcept\u001b[39;00m (\u001b[39mIOError\u001b[39;00m, \u001b[39mFileNotFoundError\u001b[39;00m) \u001b[39mas\u001b[39;00m e:\n\u001b[1;32m---> 38\u001b[0m     \u001b[39mraise\u001b[39;00m \u001b[39mIOError\u001b[39;00m(\u001b[39m'\u001b[39m\u001b[39mNo wkhtmltopdf executable found: \u001b[39m\u001b[39m\"\u001b[39m\u001b[39m%s\u001b[39;00m\u001b[39m\"\u001b[39m\u001b[39m\\n\u001b[39;00m\u001b[39m'\u001b[39m\n\u001b[0;32m     39\u001b[0m                   \u001b[39m'\u001b[39m\u001b[39mIf this file exists please check that this process can \u001b[39m\u001b[39m'\u001b[39m\n\u001b[0;32m     40\u001b[0m                   \u001b[39m'\u001b[39m\u001b[39mread it or you can pass path to it manually in method call, \u001b[39m\u001b[39m'\u001b[39m\n\u001b[0;32m     41\u001b[0m                   \u001b[39m'\u001b[39m\u001b[39mcheck README. Otherwise please install wkhtmltopdf - \u001b[39m\u001b[39m'\u001b[39m\n\u001b[0;32m     42\u001b[0m                   \u001b[39m'\u001b[39m\u001b[39mhttps://github.com/JazzCore/python-pdfkit/wiki/Installing-wkhtmltopdf\u001b[39m\u001b[39m'\u001b[39m \u001b[39m%\u001b[39m \u001b[39mself\u001b[39m\u001b[39m.\u001b[39mwkhtmltopdf)\n\u001b[0;32m     45\u001b[0m \u001b[39mself\u001b[39m\u001b[39m.\u001b[39menviron \u001b[39m=\u001b[39m environ\n\u001b[0;32m     47\u001b[0m \u001b[39mif\u001b[39;00m \u001b[39mnot\u001b[39;00m \u001b[39mself\u001b[39m\u001b[39m.\u001b[39menviron:\n",
      "\u001b[1;31mOSError\u001b[0m: No wkhtmltopdf executable found: \"b''\"\nIf this file exists please check that this process can read it or you can pass path to it manually in method call, check README. Otherwise please install wkhtmltopdf - https://github.com/JazzCore/python-pdfkit/wiki/Installing-wkhtmltopdf"
     ]
    }
   ],
   "source": [
    "import pdfkit\n",
    "\n",
    "# 웹 페이지 URL\n",
    "url = 'https://www.nhimc.or.kr'\n",
    "\n",
    "# PDF로 변환\n",
    "pdfkit.from_url(url, 'output.pdf')"
   ]
  },
  {
   "cell_type": "code",
   "execution_count": 3,
   "metadata": {},
   "outputs": [],
   "source": [
    "from pytube import YouTube\n",
    "\n",
    "def download_youtube_video_as_mp4(url, path):\n",
    "    \"\"\"\n",
    "    YouTube 동영상을 MP4 형식으로 다운로드하는 함수.\n",
    "\n",
    "    :param url: YouTube 동영상의 URL\n",
    "    :param path: 저장할 파일 경로 (예: 'downloads/video.mp4')\n",
    "    \"\"\"\n",
    "    yt = YouTube(url)\n",
    "    video = yt.streams.filter(file_extension='mp4').get_lowest_resolution()\n",
    "    video.download(output_path=path)\n",
    "\n",
    "# 함수 사용 예시\n",
    "download_youtube_video_as_mp4('https://youtu.be/e6XIrQJ4E_U?si=fIObZ4efZciDjdvU', 'test.mp4')"
   ]
  }
 ],
 "metadata": {
  "kernelspec": {
   "display_name": ".venv",
   "language": "python",
   "name": "python3"
  },
  "language_info": {
   "codemirror_mode": {
    "name": "ipython",
    "version": 3
   },
   "file_extension": ".py",
   "mimetype": "text/x-python",
   "name": "python",
   "nbconvert_exporter": "python",
   "pygments_lexer": "ipython3",
   "version": "3.11.4"
  }
 },
 "nbformat": 4,
 "nbformat_minor": 2
}
